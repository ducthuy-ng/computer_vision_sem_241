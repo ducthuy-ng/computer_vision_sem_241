{
  "nbformat": 4,
  "nbformat_minor": 0,
  "metadata": {
    "colab": {
      "provenance": [],
      "gpuType": "T4",
      "authorship_tag": "ABX9TyOCL4TdDmANqK5UeDd0RyIN",
      "include_colab_link": true
    },
    "kernelspec": {
      "name": "python3",
      "display_name": "Python 3"
    },
    "language_info": {
      "name": "python"
    },
    "accelerator": "GPU"
  },
  "cells": [
    {
      "cell_type": "markdown",
      "metadata": {
        "id": "view-in-github",
        "colab_type": "text"
      },
      "source": [
        "<a href=\"https://colab.research.google.com/github/ducthuy-ng/computer_vision_sem_241/blob/main/DLACV_Ass1.ipynb\" target=\"_parent\"><img src=\"https://colab.research.google.com/assets/colab-badge.svg\" alt=\"Open In Colab\"/></a>"
      ]
    },
    {
      "cell_type": "code",
      "execution_count": 1,
      "metadata": {
        "id": "_fpB4GcY9ddj"
      },
      "outputs": [],
      "source": [
        "import torch\n",
        "\n",
        "device = torch.device('cuda' if torch.cuda.is_available() else 'cpu')\n",
        "torch.set_default_device(device)"
      ]
    },
    {
      "cell_type": "markdown",
      "source": [
        "## Custom Model for CIFAR-10 classification\n",
        "\n",
        "1. **(3pts)** Create a Resnet-18 or RegNet-Y or MobileNet for CIFAR-10 classification\n",
        "\n",
        " * (a) Train model from scratch without using pretrained weights from ImageNet; evaluate.\n",
        "\n",
        " * (b) Train model using pretrained weights from ImageNet (fine-tune transfer learning); evaluate. The performance must higher than results from (a). Provide discussion for the results.\n",
        "\n",
        "2. **(4pts)** Repeat requirements from (1-a) and (1-b) but add data augmentation with methods from https://github.com/albumentations-team/albumentations . The performance must higher than results from (1) Provide discussion for the results.\n",
        "\n",
        "3. **(3pts)** Find best learning rate for models from (1) and (2) with learning rate finder from https://github.com/surmenok/keras_lr_finder or other similar approaches. Provide discussion for the results.\n"
      ],
      "metadata": {
        "id": "TqcTCPwX9sy5"
      }
    },
    {
      "cell_type": "code",
      "source": [
        "### For PyTorch-based coding\n",
        "import torchvision\n",
        "import torchvision.transforms as transforms\n",
        "from torch.utils.data import DataLoader\n",
        "\n",
        "transform = transforms.Compose([transforms.ToTensor(), transforms.Normalize((0.5, 0.5, 0.5), (0.5, 0.5, 0.5))])\n",
        "\n",
        "batch_size = 4\n",
        "\n",
        "trainset = torchvision.datasets.CIFAR10(root=\"./data\", train=True, download=True, transform=transform)\n",
        "trainloader = DataLoader(\n",
        "    trainset, batch_size=batch_size, shuffle=True, num_workers=2, generator=torch.Generator(device=device)\n",
        ")\n",
        "\n",
        "testset = torchvision.datasets.CIFAR10(root=\"./data\", train=False, download=True, transform=transform)\n",
        "testloader = DataLoader(\n",
        "    testset, batch_size=batch_size, shuffle=False, num_workers=2, generator=torch.Generator(device=device)\n",
        ")\n",
        "# Exercise 1\n",
        "## Pre-trained ResNet-18\n",
        "from torchvision.models import resnet18\n",
        "\n",
        "resnet_18_model = resnet18(weights=\"IMAGENET1K_V1\").to(device)\n",
        "Transfer learning\n",
        "# Freeze all pre-trained params\n",
        "for param in resnet_18_model.parameters():\n",
        "    param.requires_grad = False\n",
        "\n",
        "# Alter output layer\n",
        "resnet_18_model.fc = torch.nn.Linear(in_features=512, out_features=10, bias=True)\n",
        "loss_function = torch.nn.CrossEntropyLoss()\n",
        "optimizer = torch.optim.Adam( # type: ignore\n",
        "    params=resnet_18_model.fc.parameters(),\n",
        "    lr=0.001,\n",
        ")\n",
        "EPOCH_NUMS = 100\n",
        "\n",
        "for epoch in range(EPOCH_NUMS):\n",
        "    resnet_18_model.train()\n",
        "\n",
        "    # Initialize the running loss and accuracy\n",
        "    running_loss = 0.0\n",
        "    running_corrects = 0\n",
        "\n",
        "    for inputs, labels in trainloader:\n",
        "        optimizer.zero_grad()\n",
        "        outputs = resnet_18_model(inputs.to(device))\n",
        "        _, predictions = torch.max(outputs, 1)\n",
        "        loss = loss_function(outputs, labels)\n",
        "\n",
        "        loss.backward()\n",
        "        optimizer.step()\n",
        "\n",
        "        # Update the running loss and accuracy\n",
        "        running_loss += loss.item() * inputs.size(0)\n",
        "        running_corrects += torch.sum(predictions == labels.data)\n",
        "\n",
        "    # Calculate the train loss and accuracy\n",
        "    train_loss = running_loss / len(trainloader)\n",
        "    train_acc = running_corrects / len(trainloader)\n",
        "\n",
        "    # Set the model to evaluation mode\n",
        "    resnet_18_model.eval()\n",
        "\n",
        "    # Initialize the running loss and accuracy\n",
        "    running_loss = 0.0\n",
        "    running_corrects = 0\n",
        "\n",
        "    # Iterate over the batches of the validation loader\n",
        "    with torch.no_grad():\n",
        "        for inputs, labels in testloader:\n",
        "            # Forward pass\n",
        "            outputs = resnet_18_model(inputs)\n",
        "            _, predictions = torch.max(outputs, 1)\n",
        "            loss = loss_function(outputs, labels)\n",
        "\n",
        "            # Update the running loss and accuracy\n",
        "            running_loss += loss.item() * inputs.size(0)\n",
        "            running_corrects += torch.sum(predictions == labels.data)\n",
        "\n",
        "    # Calculate the validation loss and accuracy\n",
        "    test_loss = running_loss / len(testloader)\n",
        "    test_acc = running_corrects / len(testloader)\n",
        "\n",
        "    print(\n",
        "        f\"Epoch [{epoch + 1}/{EPOCH_NUMS}], train loss: {train_loss:.4f}, train acc: {train_acc:.4f}, test loss: {test_loss:.4f}, test acc: {test_acc:.4f}\"\n",
        "    )\n"
      ],
      "metadata": {
        "id": "WVuxgpyT9n_E"
      },
      "execution_count": null,
      "outputs": []
    }
  ]
}